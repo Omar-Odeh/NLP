{
 "cells": [
  {
   "cell_type": "code",
   "execution_count": 1,
   "id": "2efb3f9d",
   "metadata": {},
   "outputs": [
    {
     "name": "stderr",
     "output_type": "stream",
     "text": [
      "2023-07-03 15:09:28.184726: I tensorflow/core/platform/cpu_feature_guard.cc:193] This TensorFlow binary is optimized with oneAPI Deep Neural Network Library (oneDNN) to use the following CPU instructions in performance-critical operations:  AVX2 FMA\n",
      "To enable them in other operations, rebuild TensorFlow with the appropriate compiler flags.\n",
      "2023-07-03 15:09:28.306780: W tensorflow/compiler/xla/stream_executor/platform/default/dso_loader.cc:64] Could not load dynamic library 'libcudart.so.11.0'; dlerror: libcudart.so.11.0: cannot open shared object file: No such file or directory\n",
      "2023-07-03 15:09:28.306795: I tensorflow/compiler/xla/stream_executor/cuda/cudart_stub.cc:29] Ignore above cudart dlerror if you do not have a GPU set up on your machine.\n",
      "2023-07-03 15:09:29.019170: W tensorflow/compiler/xla/stream_executor/platform/default/dso_loader.cc:64] Could not load dynamic library 'libnvinfer.so.7'; dlerror: libnvinfer.so.7: cannot open shared object file: No such file or directory\n",
      "2023-07-03 15:09:29.019268: W tensorflow/compiler/xla/stream_executor/platform/default/dso_loader.cc:64] Could not load dynamic library 'libnvinfer_plugin.so.7'; dlerror: libnvinfer_plugin.so.7: cannot open shared object file: No such file or directory\n",
      "2023-07-03 15:09:29.019276: W tensorflow/compiler/tf2tensorrt/utils/py_utils.cc:38] TF-TRT Warning: Cannot dlopen some TensorRT libraries. If you would like to use Nvidia GPU with TensorRT, please make sure the missing libraries mentioned above are installed properly.\n"
     ]
    }
   ],
   "source": [
    "import tensorflow_hub as hub\n",
    "import tensorflow_text as text\n",
    "import tensorflow as tf"
   ]
  },
  {
   "cell_type": "code",
   "execution_count": 2,
   "id": "98943596",
   "metadata": {},
   "outputs": [],
   "source": [
    "preprocess_url = 'https://tfhub.dev/tensorflow/bert_en_uncased_preprocess/3'\n",
    "encoder_url = 'https://tfhub.dev/tensorflow/bert_en_uncased_L-24_H-1024_A-16/4'"
   ]
  },
  {
   "cell_type": "code",
   "execution_count": 3,
   "id": "009b4daa",
   "metadata": {},
   "outputs": [
    {
     "name": "stderr",
     "output_type": "stream",
     "text": [
      "2023-07-03 15:09:36.785285: I tensorflow/compiler/xla/stream_executor/cuda/cuda_gpu_executor.cc:981] successful NUMA node read from SysFS had negative value (-1), but there must be at least one NUMA node, so returning NUMA node zero\n",
      "2023-07-03 15:09:36.785628: W tensorflow/compiler/xla/stream_executor/platform/default/dso_loader.cc:64] Could not load dynamic library 'libcudart.so.11.0'; dlerror: libcudart.so.11.0: cannot open shared object file: No such file or directory\n",
      "2023-07-03 15:09:36.785695: W tensorflow/compiler/xla/stream_executor/platform/default/dso_loader.cc:64] Could not load dynamic library 'libcublas.so.11'; dlerror: libcublas.so.11: cannot open shared object file: No such file or directory\n",
      "2023-07-03 15:09:36.785750: W tensorflow/compiler/xla/stream_executor/platform/default/dso_loader.cc:64] Could not load dynamic library 'libcublasLt.so.11'; dlerror: libcublasLt.so.11: cannot open shared object file: No such file or directory\n",
      "2023-07-03 15:09:36.785806: W tensorflow/compiler/xla/stream_executor/platform/default/dso_loader.cc:64] Could not load dynamic library 'libcufft.so.10'; dlerror: libcufft.so.10: cannot open shared object file: No such file or directory\n",
      "2023-07-03 15:09:36.785859: W tensorflow/compiler/xla/stream_executor/platform/default/dso_loader.cc:64] Could not load dynamic library 'libcurand.so.10'; dlerror: libcurand.so.10: cannot open shared object file: No such file or directory\n",
      "2023-07-03 15:09:36.785914: W tensorflow/compiler/xla/stream_executor/platform/default/dso_loader.cc:64] Could not load dynamic library 'libcusolver.so.11'; dlerror: libcusolver.so.11: cannot open shared object file: No such file or directory\n",
      "2023-07-03 15:09:36.785967: W tensorflow/compiler/xla/stream_executor/platform/default/dso_loader.cc:64] Could not load dynamic library 'libcusparse.so.11'; dlerror: libcusparse.so.11: cannot open shared object file: No such file or directory\n",
      "2023-07-03 15:09:36.786021: W tensorflow/compiler/xla/stream_executor/platform/default/dso_loader.cc:64] Could not load dynamic library 'libcudnn.so.8'; dlerror: libcudnn.so.8: cannot open shared object file: No such file or directory\n",
      "2023-07-03 15:09:36.786029: W tensorflow/core/common_runtime/gpu/gpu_device.cc:1934] Cannot dlopen some GPU libraries. Please make sure the missing libraries mentioned above are installed properly if you would like to use GPU. Follow the guide at https://www.tensorflow.org/install/gpu for how to download and setup the required libraries for your platform.\n",
      "Skipping registering GPU devices...\n",
      "2023-07-03 15:09:36.786245: I tensorflow/core/platform/cpu_feature_guard.cc:193] This TensorFlow binary is optimized with oneAPI Deep Neural Network Library (oneDNN) to use the following CPU instructions in performance-critical operations:  AVX2 FMA\n",
      "To enable them in other operations, rebuild TensorFlow with the appropriate compiler flags.\n"
     ]
    }
   ],
   "source": [
    "bert_preprocess_model = hub.KerasLayer(preprocess_url)"
   ]
  },
  {
   "cell_type": "code",
   "execution_count": 4,
   "id": "20f2036c",
   "metadata": {},
   "outputs": [
    {
     "data": {
      "text/plain": [
       "dict_keys(['input_type_ids', 'input_mask', 'input_word_ids'])"
      ]
     },
     "execution_count": 4,
     "metadata": {},
     "output_type": "execute_result"
    }
   ],
   "source": [
    "text_test = ['nice movie indeed','I hate python programming']\n",
    "text_preprocessed = bert_preprocess_model(text_test)\n",
    "text_preprocessed.keys()"
   ]
  },
  {
   "cell_type": "code",
   "execution_count": 5,
   "id": "2c59fc7c",
   "metadata": {},
   "outputs": [
    {
     "data": {
      "text/plain": [
       "dict_keys(['pooled_output', 'default', 'encoder_outputs', 'sequence_output'])"
      ]
     },
     "execution_count": 5,
     "metadata": {},
     "output_type": "execute_result"
    }
   ],
   "source": [
    "bert_model = hub.KerasLayer(encoder_url)\n",
    "\n",
    "bert_results = bert_model(text_preprocessed)\n",
    "bert_results.keys()"
   ]
  },
  {
   "cell_type": "code",
   "execution_count": 6,
   "id": "a52c07ef",
   "metadata": {},
   "outputs": [
    {
     "data": {
      "text/html": [
       "<div>\n",
       "<style scoped>\n",
       "    .dataframe tbody tr th:only-of-type {\n",
       "        vertical-align: middle;\n",
       "    }\n",
       "\n",
       "    .dataframe tbody tr th {\n",
       "        vertical-align: top;\n",
       "    }\n",
       "\n",
       "    .dataframe thead th {\n",
       "        text-align: right;\n",
       "    }\n",
       "</style>\n",
       "<table border=\"1\" class=\"dataframe\">\n",
       "  <thead>\n",
       "    <tr style=\"text-align: right;\">\n",
       "      <th></th>\n",
       "      <th>Name</th>\n",
       "      <th>Tweet description</th>\n",
       "    </tr>\n",
       "  </thead>\n",
       "  <tbody>\n",
       "    <tr>\n",
       "      <th>0</th>\n",
       "      <td>Barack Obama</td>\n",
       "      <td>We're seeing the fastest rise in sea-levels in...</td>\n",
       "    </tr>\n",
       "    <tr>\n",
       "      <th>1</th>\n",
       "      <td>Barack Obama</td>\n",
       "      <td>RT @WhiteHouse: Watch @POTUS and @FLOTUS share...</td>\n",
       "    </tr>\n",
       "    <tr>\n",
       "      <th>2</th>\n",
       "      <td>Barack Obama</td>\n",
       "      <td>See what editorial boards are saying about Sen...</td>\n",
       "    </tr>\n",
       "    <tr>\n",
       "      <th>3</th>\n",
       "      <td>Barack Obama</td>\n",
       "      <td>President Obama is at the @CopernicusCtr in Ch...</td>\n",
       "    </tr>\n",
       "    <tr>\n",
       "      <th>4</th>\n",
       "      <td>Barack Obama</td>\n",
       "      <td>LIVE: President Obama is answering questions f...</td>\n",
       "    </tr>\n",
       "  </tbody>\n",
       "</table>\n",
       "</div>"
      ],
      "text/plain": [
       "           Name                                  Tweet description\n",
       "0  Barack Obama  We're seeing the fastest rise in sea-levels in...\n",
       "1  Barack Obama  RT @WhiteHouse: Watch @POTUS and @FLOTUS share...\n",
       "2  Barack Obama  See what editorial boards are saying about Sen...\n",
       "3  Barack Obama  President Obama is at the @CopernicusCtr in Ch...\n",
       "4  Barack Obama  LIVE: President Obama is answering questions f..."
      ]
     },
     "execution_count": 6,
     "metadata": {},
     "output_type": "execute_result"
    }
   ],
   "source": [
    "import pandas as pd\n",
    "df = pd.read_csv(\"tweet.csv\")\n",
    "df.head(5)"
   ]
  },
  {
   "cell_type": "code",
   "execution_count": 7,
   "id": "4a9da4f1",
   "metadata": {},
   "outputs": [
    {
     "data": {
      "text/html": [
       "<div>\n",
       "<style scoped>\n",
       "    .dataframe tbody tr th:only-of-type {\n",
       "        vertical-align: middle;\n",
       "    }\n",
       "\n",
       "    .dataframe tbody tr th {\n",
       "        vertical-align: top;\n",
       "    }\n",
       "\n",
       "    .dataframe thead tr th {\n",
       "        text-align: left;\n",
       "    }\n",
       "\n",
       "    .dataframe thead tr:last-of-type th {\n",
       "        text-align: right;\n",
       "    }\n",
       "</style>\n",
       "<table border=\"1\" class=\"dataframe\">\n",
       "  <thead>\n",
       "    <tr>\n",
       "      <th></th>\n",
       "      <th colspan=\"4\" halign=\"left\">Tweet description</th>\n",
       "    </tr>\n",
       "    <tr>\n",
       "      <th></th>\n",
       "      <th>count</th>\n",
       "      <th>unique</th>\n",
       "      <th>top</th>\n",
       "      <th>freq</th>\n",
       "    </tr>\n",
       "    <tr>\n",
       "      <th>Name</th>\n",
       "      <th></th>\n",
       "      <th></th>\n",
       "      <th></th>\n",
       "      <th></th>\n",
       "    </tr>\n",
       "  </thead>\n",
       "  <tbody>\n",
       "    <tr>\n",
       "      <th>Barack Obama</th>\n",
       "      <td>2585</td>\n",
       "      <td>2585</td>\n",
       "      <td>We're seeing the fastest rise in sea-levels in...</td>\n",
       "      <td>1</td>\n",
       "    </tr>\n",
       "    <tr>\n",
       "      <th>Cristiano Ronaldo</th>\n",
       "      <td>2032</td>\n",
       "      <td>2031</td>\n",
       "      <td>The most retweeted will be followed by me and ...</td>\n",
       "      <td>2</td>\n",
       "    </tr>\n",
       "    <tr>\n",
       "      <th>Ellen DeGeneres</th>\n",
       "      <td>2457</td>\n",
       "      <td>2457</td>\n",
       "      <td>Today I’m talking about a topic that affects a...</td>\n",
       "      <td>1</td>\n",
       "    </tr>\n",
       "    <tr>\n",
       "      <th>Elon Musk</th>\n",
       "      <td>2232</td>\n",
       "      <td>2231</td>\n",
       "      <td>@tesla_truth Exactly</td>\n",
       "      <td>2</td>\n",
       "    </tr>\n",
       "    <tr>\n",
       "      <th>KATY PERRY</th>\n",
       "      <td>2326</td>\n",
       "      <td>2325</td>\n",
       "      <td>What should wake Katy up tomorrow morning?</td>\n",
       "      <td>2</td>\n",
       "    </tr>\n",
       "    <tr>\n",
       "      <th>Kim Kardashian West</th>\n",
       "      <td>2149</td>\n",
       "      <td>2148</td>\n",
       "      <td>RT @kkwbeauty: BOGO! Buy one Crème Contour Sti...</td>\n",
       "      <td>2</td>\n",
       "    </tr>\n",
       "    <tr>\n",
       "      <th>Neil deGrasse Tyson</th>\n",
       "      <td>2525</td>\n",
       "      <td>2515</td>\n",
       "      <td>In 5-billion yrs the Sun will expand &amp;amp; eng...</td>\n",
       "      <td>3</td>\n",
       "    </tr>\n",
       "    <tr>\n",
       "      <th>Sebastian Ruder</th>\n",
       "      <td>2374</td>\n",
       "      <td>2374</td>\n",
       "      <td>New blog post giving an overview of softmax ap...</td>\n",
       "      <td>1</td>\n",
       "    </tr>\n",
       "  </tbody>\n",
       "</table>\n",
       "</div>"
      ],
      "text/plain": [
       "                    Tweet description         \\\n",
       "                                count unique   \n",
       "Name                                           \n",
       "Barack Obama                     2585   2585   \n",
       "Cristiano Ronaldo                2032   2031   \n",
       "Ellen DeGeneres                  2457   2457   \n",
       "Elon Musk                        2232   2231   \n",
       "KATY PERRY                       2326   2325   \n",
       "Kim Kardashian West              2149   2148   \n",
       "Neil deGrasse Tyson              2525   2515   \n",
       "Sebastian Ruder                  2374   2374   \n",
       "\n",
       "                                                                             \n",
       "                                                                   top freq  \n",
       "Name                                                                         \n",
       "Barack Obama         We're seeing the fastest rise in sea-levels in...    1  \n",
       "Cristiano Ronaldo    The most retweeted will be followed by me and ...    2  \n",
       "Ellen DeGeneres      Today I’m talking about a topic that affects a...    1  \n",
       "Elon Musk                                         @tesla_truth Exactly    2  \n",
       "KATY PERRY                  What should wake Katy up tomorrow morning?    2  \n",
       "Kim Kardashian West  RT @kkwbeauty: BOGO! Buy one Crème Contour Sti...    2  \n",
       "Neil deGrasse Tyson  In 5-billion yrs the Sun will expand &amp; eng...    3  \n",
       "Sebastian Ruder      New blog post giving an overview of softmax ap...    1  "
      ]
     },
     "execution_count": 7,
     "metadata": {},
     "output_type": "execute_result"
    }
   ],
   "source": [
    "df.groupby('Name').describe()"
   ]
  },
  {
   "cell_type": "code",
   "execution_count": 8,
   "id": "37843edd",
   "metadata": {},
   "outputs": [],
   "source": [
    "from sklearn.preprocessing import LabelEncoder\n",
    "\n",
    "# Assuming 'author' is the column representing the classes\n",
    "label_encoder = LabelEncoder()\n",
    "df['Name'] = label_encoder.fit_transform(df['Name'])"
   ]
  },
  {
   "cell_type": "code",
   "execution_count": 9,
   "id": "b09fa320",
   "metadata": {},
   "outputs": [],
   "source": [
    "from sklearn.model_selection import train_test_split\n",
    "\n",
    "X_train, X_test, y_train, y_test = train_test_split(df['Tweet description'],df['Name'], stratify=df['Name'])"
   ]
  },
  {
   "cell_type": "code",
   "execution_count": 10,
   "id": "4530bf4b",
   "metadata": {},
   "outputs": [
    {
     "data": {
      "text/plain": [
       "count    18680.000000\n",
       "mean         3.504229\n",
       "std          2.322235\n",
       "min          0.000000\n",
       "25%          2.000000\n",
       "50%          4.000000\n",
       "75%          6.000000\n",
       "max          7.000000\n",
       "Name: Name, dtype: float64"
      ]
     },
     "execution_count": 10,
     "metadata": {},
     "output_type": "execute_result"
    }
   ],
   "source": [
    "df['Name'].describe()"
   ]
  },
  {
   "cell_type": "code",
   "execution_count": 11,
   "id": "dc2dfb08",
   "metadata": {},
   "outputs": [
    {
     "name": "stdout",
     "output_type": "stream",
     "text": [
      "WARNING:tensorflow:From /home/yoda/.local/lib/python3.10/site-packages/tensorflow/python/autograph/pyct/static_analysis/liveness.py:83: Analyzer.lamba_check (from tensorflow.python.autograph.pyct.static_analysis.liveness) is deprecated and will be removed after 2023-09-23.\n",
      "Instructions for updating:\n",
      "Lambda fuctions will be no more assumed to be used in the statement where they are used, or at least in the same block. https://github.com/tensorflow/tensorflow/issues/56089\n"
     ]
    },
    {
     "name": "stderr",
     "output_type": "stream",
     "text": [
      "WARNING:tensorflow:From /home/yoda/.local/lib/python3.10/site-packages/tensorflow/python/autograph/pyct/static_analysis/liveness.py:83: Analyzer.lamba_check (from tensorflow.python.autograph.pyct.static_analysis.liveness) is deprecated and will be removed after 2023-09-23.\n",
      "Instructions for updating:\n",
      "Lambda fuctions will be no more assumed to be used in the statement where they are used, or at least in the same block. https://github.com/tensorflow/tensorflow/issues/56089\n"
     ]
    }
   ],
   "source": [
    "# Bert layers\n",
    "text_input = tf.keras.layers.Input(shape=(), dtype=tf.string, name='text')\n",
    "preprocessed_text = bert_preprocess_model(text_input)\n",
    "outputs = bert_model(preprocessed_text)\n",
    "\n",
    "# Neural network layers\n",
    "l = tf.keras.layers.Dropout(0.1, name=\"dropout\")(outputs['pooled_output'])\n",
    "l = tf.keras.layers.Dense(8, activation='softmax', name=\"output\")(l)\n",
    "\n",
    "# Use inputs and outputs to construct a final model\n",
    "model = tf.keras.Model(inputs=[text_input], outputs = [l])"
   ]
  },
  {
   "cell_type": "code",
   "execution_count": 19,
   "id": "c14a99fa",
   "metadata": {},
   "outputs": [
    {
     "name": "stdout",
     "output_type": "stream",
     "text": [
      "Model: \"model\"\n",
      "__________________________________________________________________________________________________\n",
      " Layer (type)                   Output Shape         Param #     Connected to                     \n",
      "==================================================================================================\n",
      " text (InputLayer)              [(None,)]            0           []                               \n",
      "                                                                                                  \n",
      " keras_layer (KerasLayer)       {'input_type_ids':   0           ['text[0][0]']                   \n",
      "                                (None, 128),                                                      \n",
      "                                 'input_mask': (Non                                               \n",
      "                                e, 128),                                                          \n",
      "                                 'input_word_ids':                                                \n",
      "                                (None, 128)}                                                      \n",
      "                                                                                                  \n",
      " keras_layer_1 (KerasLayer)     {'pooled_output': (  335141889   ['keras_layer[0][0]',            \n",
      "                                None, 1024),                      'keras_layer[0][1]',            \n",
      "                                 'default': (None,                'keras_layer[0][2]']            \n",
      "                                1024),                                                            \n",
      "                                 'encoder_outputs':                                               \n",
      "                                 [(None, 128, 1024)                                               \n",
      "                                , (None, 128, 1024)                                               \n",
      "                                , (None, 128, 1024)                                               \n",
      "                                , (None, 128, 1024)                                               \n",
      "                                , (None, 128, 1024)                                               \n",
      "                                , (None, 128, 1024)                                               \n",
      "                                , (None, 128, 1024)                                               \n",
      "                                , (None, 128, 1024)                                               \n",
      "                                , (None, 128, 1024)                                               \n",
      "                                , (None, 128, 1024)                                               \n",
      "                                , (None, 128, 1024)                                               \n",
      "                                , (None, 128, 1024)                                               \n",
      "                                , (None, 128, 1024)                                               \n",
      "                                , (None, 128, 1024)                                               \n",
      "                                , (None, 128, 1024)                                               \n",
      "                                , (None, 128, 1024)                                               \n",
      "                                , (None, 128, 1024)                                               \n",
      "                                , (None, 128, 1024)                                               \n",
      "                                , (None, 128, 1024)                                               \n",
      "                                , (None, 128, 1024)                                               \n",
      "                                , (None, 128, 1024)                                               \n",
      "                                , (None, 128, 1024)                                               \n",
      "                                , (None, 128, 1024)                                               \n",
      "                                , (None, 128, 1024)                                               \n",
      "                                ],                                                                \n",
      "                                 'sequence_output':                                               \n",
      "                                 (None, 128, 1024)}                                               \n",
      "                                                                                                  \n",
      " dropout (Dropout)              (None, 1024)         0           ['keras_layer_1[0][25]']         \n",
      "                                                                                                  \n",
      " output (Dense)                 (None, 8)            8200        ['dropout[0][0]']                \n",
      "                                                                                                  \n",
      "==================================================================================================\n",
      "Total params: 335,150,089\n",
      "Trainable params: 8,200\n",
      "Non-trainable params: 335,141,889\n",
      "__________________________________________________________________________________________________\n"
     ]
    }
   ],
   "source": [
    "model.summary()"
   ]
  },
  {
   "cell_type": "code",
   "execution_count": 22,
   "id": "a3d5eabd",
   "metadata": {},
   "outputs": [],
   "source": [
    "model.compile(\n",
    "    optimizer='adam',\n",
    "    loss='sparse_categorical_crossentropy',\n",
    "    metrics=['accuracy']\n",
    ")"
   ]
  },
  {
   "cell_type": "code",
   "execution_count": null,
   "id": "4e54a34e",
   "metadata": {},
   "outputs": [
    {
     "name": "stdout",
     "output_type": "stream",
     "text": [
      "Epoch 1/10\n",
      " 73/438 [====>.........................] - ETA: 1:24:13 - loss: 2.1873 - accuracy: 0.1635"
     ]
    }
   ],
   "source": [
    "model.fit(X_train, y_train, epochs=10)"
   ]
  }
 ],
 "metadata": {
  "kernelspec": {
   "display_name": "Python 3 (ipykernel)",
   "language": "python",
   "name": "python3"
  },
  "language_info": {
   "codemirror_mode": {
    "name": "ipython",
    "version": 3
   },
   "file_extension": ".py",
   "mimetype": "text/x-python",
   "name": "python",
   "nbconvert_exporter": "python",
   "pygments_lexer": "ipython3",
   "version": "3.10.6"
  }
 },
 "nbformat": 4,
 "nbformat_minor": 5
}
